{
 "cells": [
  {
   "cell_type": "markdown",
   "metadata": {},
   "source": [
    "# Sentiment Analysis on Movie Reviews\n",
    "## This NLP project uses an LSTM model, with GloVe embeddings, to rate the movie reviews that may consist of up to 50 words\n",
    "\n",
    "### Note that some helper functions in this notebook are from Coursera's Sequence Models Course"
   ]
  },
  {
   "cell_type": "code",
   "execution_count": 1,
   "metadata": {
    "colab": {
     "base_uri": "https://localhost:8080/",
     "height": 54
    },
    "colab_type": "code",
    "id": "f2ljOL81NYgH",
    "outputId": "69909d05-2088-4d38-c155-81610b2722c5"
   },
   "outputs": [
    {
     "name": "stdout",
     "output_type": "stream",
     "text": [
      "Drive already mounted at /content/drive; to attempt to forcibly remount, call drive.mount(\"/content/drive\", force_remount=True).\n"
     ]
    }
   ],
   "source": [
    "from google.colab import drive\n",
    "drive.mount('/content/drive')"
   ]
  },
  {
   "cell_type": "markdown",
   "metadata": {
    "colab_type": "text",
    "id": "g8vFeifDXRZi"
   },
   "source": [
    "# Some Helper Functions from Coursera's Sequence Models Course"
   ]
  },
  {
   "cell_type": "code",
   "execution_count": 2,
   "metadata": {
    "colab": {},
    "colab_type": "code",
    "id": "RXCC8OTuQYuT"
   },
   "outputs": [],
   "source": [
    "import csv\n",
    "import numpy as np\n",
    "import pandas as pd\n",
    "import matplotlib.pyplot as plt\n",
    "from sklearn.metrics import confusion_matrix\n",
    "\n",
    "def read_glove_vecs(glove_file):\n",
    "    with open('/content/drive/My Drive/' + glove_file, 'r') as f:\n",
    "        words = set()\n",
    "        word_to_vec_map = {}\n",
    "        for line in f:\n",
    "            line = line.strip().split()\n",
    "            curr_word = line[0]\n",
    "            words.add(curr_word)\n",
    "            word_to_vec_map[curr_word] = np.array(line[1:], dtype=np.float64)\n",
    "        \n",
    "        i = 1\n",
    "        words_to_index = {}\n",
    "        index_to_words = {}\n",
    "        for w in sorted(words):\n",
    "            words_to_index[w] = i\n",
    "            index_to_words[i] = w\n",
    "            i = i + 1\n",
    "    return words_to_index, index_to_words, word_to_vec_map\n",
    "\n",
    "def softmax(x):\n",
    "    \"\"\"Compute softmax values for each sets of scores in x.\"\"\"\n",
    "    e_x = np.exp(x - np.max(x))\n",
    "    return e_x / e_x.sum()\n",
    "\n",
    "def convert_to_one_hot(Y, C):\n",
    "    Y = np.eye(C)[Y.reshape(-1)]\n",
    "    return Y\n",
    "\n",
    "\n",
    "emoji_dictionary = {\"0\": \"\\u2764\\uFE0F\",    # :heart: prints a black instead of red heart depending on the font\n",
    "                    \"1\": \":baseball:\",\n",
    "                    \"2\": \":smile:\",\n",
    "                    \"3\": \":disappointed:\",\n",
    "                    \"4\": \":fork_and_knife:\"}\n",
    "              \n",
    "    \n",
    "def print_predictions(X, pred):\n",
    "    print()\n",
    "    for i in range(X.shape[0]):\n",
    "        print(X[i], label_to_emoji(int(pred[i])))\n",
    "        \n",
    "        \n",
    "def plot_confusion_matrix(y_actu, y_pred, title='Confusion matrix', cmap=plt.cm.gray_r):\n",
    "    \n",
    "    df_confusion = pd.crosstab(y_actu, y_pred.reshape(y_pred.shape[0],), rownames=['Actual'], colnames=['Predicted'], margins=True)\n",
    "    \n",
    "    df_conf_norm = df_confusion / df_confusion.sum(axis=1)\n",
    "    \n",
    "    plt.matshow(df_confusion, cmap=cmap) # imshow\n",
    "    #plt.title(title)\n",
    "    plt.colorbar()\n",
    "    tick_marks = np.arange(len(df_confusion.columns))\n",
    "    plt.xticks(tick_marks, df_confusion.columns, rotation=45)\n",
    "    plt.yticks(tick_marks, df_confusion.index)\n",
    "    #plt.tight_layout()\n",
    "    plt.ylabel(df_confusion.index.name)\n",
    "    plt.xlabel(df_confusion.columns.name)\n",
    "    \n",
    "    \n",
    "def predict(X, Y, W, b, word_to_vec_map):\n",
    "    \"\"\"\n",
    "    Given X (sentences) and Y (emoji indices), predict emojis and compute the accuracy of your model over the given set.\n",
    "    \n",
    "    Arguments:\n",
    "    X -- input data containing sentences, numpy array of shape (m, None)\n",
    "    Y -- labels, containing index of the label emoji, numpy array of shape (m, 1)\n",
    "    \n",
    "    Returns:\n",
    "    pred -- numpy array of shape (m, 1) with your predictions\n",
    "    \"\"\"\n",
    "    m = X.shape[0]\n",
    "    pred = np.zeros((m, 1))\n",
    "    \n",
    "    for j in range(m):                       # Loop over training examples\n",
    "        \n",
    "        # Split jth test example (sentence) into list of lower case words\n",
    "        words = X[j].lower().split()\n",
    "        \n",
    "        # Average words' vectors\n",
    "        avg = np.zeros((50,))\n",
    "        for w in words:\n",
    "            avg += word_to_vec_map[w]\n",
    "        avg = avg/len(words)\n",
    "\n",
    "        # Forward propagation\n",
    "        Z = np.dot(W, avg) + b\n",
    "        A = softmax(Z)\n",
    "        pred[j] = np.argmax(A)\n",
    "        \n",
    "    print(\"Accuracy: \"  + str(np.mean((pred[:] == Y.reshape(Y.shape[0],1)[:]))))\n",
    "    \n",
    "    return pred"
   ]
  },
  {
   "cell_type": "markdown",
   "metadata": {
    "colab_type": "text",
    "id": "P52tmmvrXc6j"
   },
   "source": [
    "# Functions to read in training and test datasets"
   ]
  },
  {
   "cell_type": "code",
   "execution_count": 3,
   "metadata": {
    "colab": {},
    "colab_type": "code",
    "id": "nXdFHz73fQMd"
   },
   "outputs": [],
   "source": [
    "import numpy as np\n",
    "import matplotlib.pyplot as plt\n",
    "\n",
    "%matplotlib inline\n",
    "\n",
    "def read_data_csv(filename):\n",
    "    phrase = []\n",
    "    sentiment = []\n",
    "\n",
    "    with open ('/content/drive/My Drive/' + filename) as csvDataFile:\n",
    "        csvReader = csv.reader(csvDataFile)\n",
    "        for row in csvReader:\n",
    "            phrase.append(row[0])\n",
    "            sentiment.append(row[1])\n",
    "\n",
    "    X = np.asarray(phrase)\n",
    "    Y = np.asarray(sentiment, dtype=int)\n",
    "\n",
    "    return X, Y\n",
    "\n",
    "def read_train_csv(filename):\n",
    "    phrase = []\n",
    "    sentiment = []\n",
    "\n",
    "    with open ('/content/drive/My Drive/' + filename) as csvDataFile:\n",
    "        csvReader = csv.reader(csvDataFile)\n",
    "        for index, row in enumerate(csvReader):\n",
    "            if index % 100 != 0:\n",
    "                phrase.append(row[0])\n",
    "                sentiment.append(row[1])   \n",
    "\n",
    "    X = np.asarray(phrase)\n",
    "    Y = np.asarray(sentiment, dtype=int)\n",
    "\n",
    "    return X, Y\n",
    "\n",
    "def read_test_csv(filename):\n",
    "    phrase = []\n",
    "    sentiment = []\n",
    "\n",
    "    with open ('/content/drive/My Drive/' + filename) as csvDataFile:\n",
    "        csvReader = csv.reader(csvDataFile)\n",
    "        for index, row in enumerate(csvReader):\n",
    "            if index % 100 == 0:\n",
    "                phrase.append(row[0])\n",
    "                sentiment.append(row[1])\n",
    "                \n",
    "    X = np.asarray(phrase)\n",
    "    Y = np.asarray(sentiment, dtype=int)\n",
    "\n",
    "    return X, Y"
   ]
  },
  {
   "cell_type": "markdown",
   "metadata": {
    "colab_type": "text",
    "id": "-abPAIVxab7-"
   },
   "source": [
    "# Split the data to training, validation, and test datasets"
   ]
  },
  {
   "cell_type": "code",
   "execution_count": 5,
   "metadata": {
    "colab": {},
    "colab_type": "code",
    "id": "d7dkPzqqfQMi"
   },
   "outputs": [],
   "source": [
    "from sklearn.model_selection import train_test_split\n",
    "\n",
    "X, Y = read_train_csv('dataset.csv')\n",
    "X_test, Y_test = read_test_csv('dataset.csv')\n",
    "X_train, X_validation, Y_train, Y_validation = train_test_split(X, Y, test_size = 0.01)"
   ]
  },
  {
   "cell_type": "markdown",
   "metadata": {},
   "source": [
    "# Preprocess the datasets"
   ]
  },
  {
   "cell_type": "code",
   "execution_count": 6,
   "metadata": {
    "colab": {},
    "colab_type": "code",
    "id": "DssuMjxdfQMn"
   },
   "outputs": [],
   "source": [
    "maxLen = len(max(X_train, key=len).split()) + 1"
   ]
  },
  {
   "cell_type": "code",
   "execution_count": 7,
   "metadata": {
    "colab": {},
    "colab_type": "code",
    "id": "6VkEJukNfQM0"
   },
   "outputs": [],
   "source": [
    "Y_oh_train = convert_to_one_hot(Y_train, C = 5)\n",
    "Y_oh_validation = convert_to_one_hot(Y_validation, C = 5)\n",
    "Y_oh_test = convert_to_one_hot(Y_test, C = 5)"
   ]
  },
  {
   "cell_type": "markdown",
   "metadata": {},
   "source": [
    "# Load the GloVe embeddings"
   ]
  },
  {
   "cell_type": "code",
   "execution_count": 16,
   "metadata": {
    "colab": {
     "base_uri": "https://localhost:8080/",
     "height": 34
    },
    "colab_type": "code",
    "id": "Kiati51YfQM_",
    "outputId": "70bd3bc3-553b-470f-83ec-b3cd0b676c0d"
   },
   "outputs": [
    {
     "name": "stdout",
     "output_type": "stream",
     "text": [
      "400001\n"
     ]
    }
   ],
   "source": [
    "word_to_index, index_to_word, word_to_vec_map = read_glove_vecs('glove.6B.300d.txt')\n",
    "total_word_number = len(word_to_index)\n",
    "print(total_word_number)"
   ]
  },
  {
   "cell_type": "markdown",
   "metadata": {
    "colab_type": "text",
    "id": "JnoKmG0_fQNC"
   },
   "source": [
    "Those following are loaded:\n",
    "- `word_to_index`: dictionary mapping from words to their indices in the vocabulary \n",
    "    - (400,001 words, with the valid indices ranging from 0 to 400,000)\n",
    "- `index_to_word`: dictionary mapping from indices to their corresponding words in the vocabulary\n",
    "- `word_to_vec_map`: dictionary mapping words to their GloVe vector representation."
   ]
  },
  {
   "cell_type": "code",
   "execution_count": 9,
   "metadata": {
    "colab": {},
    "colab_type": "code",
    "id": "Azw3WDqUfQNs"
   },
   "outputs": [],
   "source": [
    "import numpy as np\n",
    "np.random.seed(0)\n",
    "from keras.models import Model\n",
    "from keras.layers import Dense, Input, Dropout, LSTM, Activation\n",
    "from keras.layers.embeddings import Embedding\n",
    "from keras.preprocessing import sequence\n",
    "from keras.initializers import glorot_uniform\n",
    "np.random.seed(1)"
   ]
  },
  {
   "cell_type": "markdown",
   "metadata": {},
   "source": [
    "# More Helper Functions from Coursera's Sequence Models Course"
   ]
  },
  {
   "cell_type": "code",
   "execution_count": 10,
   "metadata": {
    "colab": {},
    "colab_type": "code",
    "id": "UcC8WdTffQN0"
   },
   "outputs": [],
   "source": [
    "def sentences_to_indices(X, word_to_index, max_len):\n",
    "    \"\"\"\n",
    "    Converts an array of sentences (strings) into an array of indices corresponding to words in the sentences.\n",
    "    The output shape should be such that it can be given to `Embedding()` (described in Figure 4). \n",
    "    \n",
    "    Arguments:\n",
    "    X -- array of sentences (strings), of shape (m, 1)\n",
    "    word_to_index -- a dictionary containing the each word mapped to its index\n",
    "    max_len -- maximum number of words in a sentence. You can assume every sentence in X is no longer than this. \n",
    "    \n",
    "    Returns:\n",
    "    X_indices -- array of indices corresponding to words in the sentences from X, of shape (m, max_len)\n",
    "    \"\"\"\n",
    "    \n",
    "    m = X.shape[0]                                   # number of training examples\n",
    "    \n",
    "    ### START CODE HERE ###\n",
    "    # Initialize X_indices as a numpy matrix of zeros and the correct shape (≈ 1 line)\n",
    "    X_indices = np.zeros((m, max_len))\n",
    "    \n",
    "    for i in range(m):                               # loop over training examples\n",
    "        \n",
    "        # Convert the ith training sentence in lower case and split is into words. You should get a list of words.\n",
    "        sentence_words = X[i].lower().split()\n",
    "        \n",
    "        # Initialize j to 0\n",
    "        j = 0\n",
    "        \n",
    "        # Loop over the words of sentence_words\n",
    "        for w in sentence_words:\n",
    "            # Set the (i,j)th entry of X_indices to the index of the correct word.\n",
    "            if w in word_to_index:\n",
    "                X_indices[i, j] = word_to_index[w]\n",
    "            else:\n",
    "                X_indices[i, j] = np.random.randint(total_word_number)\n",
    "            # Increment j to j + 1\n",
    "            j = j + 1\n",
    "            \n",
    "    ### END CODE HERE ###\n",
    "    \n",
    "    return X_indices"
   ]
  },
  {
   "cell_type": "code",
   "execution_count": 11,
   "metadata": {
    "colab": {},
    "colab_type": "code",
    "id": "JZCqm6Z5fQN9"
   },
   "outputs": [],
   "source": [
    "def pretrained_embedding_layer(word_to_vec_map, word_to_index):\n",
    "    \"\"\"\n",
    "    Creates a Keras Embedding() layer and loads in pre-trained GloVe 50-dimensional vectors.\n",
    "    \n",
    "    Arguments:\n",
    "    word_to_vec_map -- dictionary mapping words to their GloVe vector representation.\n",
    "    word_to_index -- dictionary mapping from words to their indices in the vocabulary (400,001 words)\n",
    "\n",
    "    Returns:\n",
    "    embedding_layer -- pretrained layer Keras instance\n",
    "    \"\"\"\n",
    "    \n",
    "    vocab_len = len(word_to_index) + 1                  # adding 1 to fit Keras embedding (requirement)\n",
    "    emb_dim = word_to_vec_map[\"cucumber\"].shape[0]      # define dimensionality of your GloVe word vectors (= 50)\n",
    "    \n",
    "    ### START CODE HERE ###\n",
    "    # Step 1\n",
    "    # Initialize the embedding matrix as a numpy array of zeros.\n",
    "    # See instructions above to choose the correct shape.\n",
    "    emb_matrix = np.zeros((vocab_len, emb_dim))\n",
    "    \n",
    "    # Step 2\n",
    "    # Set each row \"idx\" of the embedding matrix to be \n",
    "    # the word vector representation of the idx'th word of the vocabulary\n",
    "    for word, idx in word_to_index.items():\n",
    "        emb_matrix[idx, :] = word_to_vec_map[word]\n",
    "\n",
    "    # Step 3\n",
    "    # Define Keras embedding layer with the correct input and output sizes\n",
    "    # Make it non-trainable.\n",
    "    embedding_layer = Embedding(vocab_len, emb_dim, trainable = False)\n",
    "    ### END CODE HERE ###\n",
    "\n",
    "    # Step 4 (already done for you; please do not modify)\n",
    "    # Build the embedding layer, it is required before setting the weights of the embedding layer. \n",
    "    embedding_layer.build((None,)) # Do not modify the \"None\".  This line of code is complete as-is.\n",
    "    \n",
    "    # Set the weights of the embedding layer to the embedding matrix. Your layer is now pretrained.\n",
    "    embedding_layer.set_weights([emb_matrix])\n",
    "    \n",
    "    return embedding_layer"
   ]
  },
  {
   "cell_type": "code",
   "execution_count": 12,
   "metadata": {
    "colab": {},
    "colab_type": "code",
    "id": "94Mc8jkZfQOE"
   },
   "outputs": [],
   "source": [
    "def LSTM_model(input_shape, word_to_vec_map, word_to_index):\n",
    "    \"\"\"\n",
    "    Function creating model's graph.\n",
    "    \n",
    "    Arguments:\n",
    "    input_shape -- shape of the input, usually (max_len,)\n",
    "    word_to_vec_map -- dictionary mapping every word in a vocabulary into its 50-dimensional vector representation\n",
    "    word_to_index -- dictionary mapping from words to their indices in the vocabulary (400,001 words)\n",
    "\n",
    "    Returns:\n",
    "    model -- a model instance in Keras\n",
    "    \"\"\"\n",
    "    \n",
    "    ### START CODE HERE ###\n",
    "    # Define sentence_indices as the input of the graph.\n",
    "    # It should be of shape input_shape and dtype 'int32' (as it contains indices, which are integers).\n",
    "    sentence_indices = Input(shape=input_shape, dtype='int32')\n",
    "    \n",
    "    # Create the embedding layer pretrained with GloVe Vectors (≈1 line)\n",
    "    embedding_layer = pretrained_embedding_layer(word_to_vec_map, word_to_index)\n",
    "    \n",
    "    # Propagate sentence_indices through your embedding layer\n",
    "    # (See additional hints in the instructions).\n",
    "    embeddings = embedding_layer(sentence_indices)\n",
    "    \n",
    "    # Propagate the embeddings through an LSTM layer with 128-dimensional hidden state\n",
    "    # The returned output should be a batch of sequences.\n",
    "    X = LSTM(128, return_sequences=True)(embeddings)\n",
    "    # Add dropout with a probability of 0.5\n",
    "    X = Dropout(0.5)(X)\n",
    "    # Propagate X trough another LSTM layer with 128-dimensional hidden state\n",
    "    # The returned output should be a single hidden state, not a batch of sequences.\n",
    "    X = LSTM(128, return_sequences=False)(X)\n",
    "    # Add dropout with a probability of 0.5\n",
    "    X = Dropout(0.5)(X)\n",
    "    # Propagate X through a Dense layer with 5 units\n",
    "    X = Dense(5)(X)\n",
    "    # Add a softmax activation\n",
    "    X = Activation('softmax')(X)\n",
    "    \n",
    "    # Create Model instance which converts sentence_indices into X.\n",
    "    model = Model(inputs=sentence_indices, outputs=X)\n",
    "    \n",
    "    ### END CODE HERE ###\n",
    "    \n",
    "    return model"
   ]
  },
  {
   "cell_type": "markdown",
   "metadata": {},
   "source": [
    "# Create the LSTM Model"
   ]
  },
  {
   "cell_type": "code",
   "execution_count": 13,
   "metadata": {
    "colab": {
     "base_uri": "https://localhost:8080/",
     "height": 425
    },
    "colab_type": "code",
    "id": "S-y6nxywfQOI",
    "outputId": "3b8af2ea-547e-4bb7-d83c-4e0819d51710",
    "scrolled": false
   },
   "outputs": [
    {
     "name": "stdout",
     "output_type": "stream",
     "text": [
      "Model: \"functional_1\"\n",
      "_________________________________________________________________\n",
      "Layer (type)                 Output Shape              Param #   \n",
      "=================================================================\n",
      "input_1 (InputLayer)         [(None, 52)]              0         \n",
      "_________________________________________________________________\n",
      "embedding (Embedding)        (None, 52, 300)           120000600 \n",
      "_________________________________________________________________\n",
      "lstm (LSTM)                  (None, 52, 128)           219648    \n",
      "_________________________________________________________________\n",
      "dropout (Dropout)            (None, 52, 128)           0         \n",
      "_________________________________________________________________\n",
      "lstm_1 (LSTM)                (None, 128)               131584    \n",
      "_________________________________________________________________\n",
      "dropout_1 (Dropout)          (None, 128)               0         \n",
      "_________________________________________________________________\n",
      "dense (Dense)                (None, 5)                 645       \n",
      "_________________________________________________________________\n",
      "activation (Activation)      (None, 5)                 0         \n",
      "=================================================================\n",
      "Total params: 120,352,477\n",
      "Trainable params: 351,877\n",
      "Non-trainable params: 120,000,600\n",
      "_________________________________________________________________\n"
     ]
    }
   ],
   "source": [
    "model = LSTM_model((maxLen,), word_to_vec_map, word_to_index)\n",
    "model.summary()"
   ]
  },
  {
   "cell_type": "code",
   "execution_count": 14,
   "metadata": {
    "colab": {},
    "colab_type": "code",
    "id": "Q4Rl2P0cfQOL"
   },
   "outputs": [],
   "source": [
    "model.compile(loss='categorical_crossentropy', optimizer='adam', metrics=['accuracy'])"
   ]
  },
  {
   "cell_type": "markdown",
   "metadata": {},
   "source": [
    "# Start training the model"
   ]
  },
  {
   "cell_type": "code",
   "execution_count": 17,
   "metadata": {
    "colab": {},
    "colab_type": "code",
    "id": "nkJJ9hQMfQOP"
   },
   "outputs": [],
   "source": [
    "X_train_indices = sentences_to_indices(X_train, word_to_index, maxLen)\n",
    "Y_train_oh = convert_to_one_hot(Y_train, C = 5)"
   ]
  },
  {
   "cell_type": "code",
   "execution_count": 18,
   "metadata": {
    "colab": {
     "base_uri": "https://localhost:8080/",
     "height": 1000
    },
    "colab_type": "code",
    "id": "2Enxmyy1fQOT",
    "outputId": "67a7320b-8139-4410-cc97-c85c3aef5551",
    "scrolled": true
   },
   "outputs": [
    {
     "name": "stdout",
     "output_type": "stream",
     "text": [
      "Epoch 1/50\n",
      "153/153 [==============================] - 7s 45ms/step - loss: 1.1490 - accuracy: 0.5416\n",
      "Epoch 2/50\n",
      "153/153 [==============================] - 7s 45ms/step - loss: 0.9450 - accuracy: 0.6128\n",
      "Epoch 3/50\n",
      "153/153 [==============================] - 7s 45ms/step - loss: 0.8960 - accuracy: 0.6314\n",
      "Epoch 4/50\n",
      "153/153 [==============================] - 7s 45ms/step - loss: 0.8565 - accuracy: 0.6470\n",
      "Epoch 5/50\n",
      "153/153 [==============================] - 7s 45ms/step - loss: 0.8210 - accuracy: 0.6614\n",
      "Epoch 6/50\n",
      "153/153 [==============================] - 7s 45ms/step - loss: 0.7979 - accuracy: 0.6706\n",
      "Epoch 7/50\n",
      "153/153 [==============================] - 7s 45ms/step - loss: 0.7742 - accuracy: 0.6810\n",
      "Epoch 8/50\n",
      "153/153 [==============================] - 7s 45ms/step - loss: 0.7608 - accuracy: 0.6855\n",
      "Epoch 9/50\n",
      "153/153 [==============================] - 7s 45ms/step - loss: 0.7409 - accuracy: 0.6946\n",
      "Epoch 10/50\n",
      "153/153 [==============================] - 7s 45ms/step - loss: 0.7249 - accuracy: 0.7018\n",
      "Epoch 11/50\n",
      "153/153 [==============================] - 7s 45ms/step - loss: 0.7079 - accuracy: 0.7087\n",
      "Epoch 12/50\n",
      "153/153 [==============================] - 7s 45ms/step - loss: 0.6986 - accuracy: 0.7136\n",
      "Epoch 13/50\n",
      "153/153 [==============================] - 7s 45ms/step - loss: 0.6874 - accuracy: 0.7171\n",
      "Epoch 14/50\n",
      "153/153 [==============================] - 7s 45ms/step - loss: 0.6773 - accuracy: 0.7203\n",
      "Epoch 15/50\n",
      "153/153 [==============================] - 7s 45ms/step - loss: 0.6668 - accuracy: 0.7253\n",
      "Epoch 16/50\n",
      "153/153 [==============================] - 7s 45ms/step - loss: 0.6546 - accuracy: 0.7310\n",
      "Epoch 17/50\n",
      "153/153 [==============================] - 7s 45ms/step - loss: 0.6458 - accuracy: 0.7357\n",
      "Epoch 18/50\n",
      "153/153 [==============================] - 7s 45ms/step - loss: 0.6352 - accuracy: 0.7393\n",
      "Epoch 19/50\n",
      "153/153 [==============================] - 7s 45ms/step - loss: 0.6260 - accuracy: 0.7434\n",
      "Epoch 20/50\n",
      "153/153 [==============================] - 7s 45ms/step - loss: 0.6201 - accuracy: 0.7456\n",
      "Epoch 21/50\n",
      "153/153 [==============================] - 7s 45ms/step - loss: 0.6107 - accuracy: 0.7501\n",
      "Epoch 22/50\n",
      "153/153 [==============================] - 7s 45ms/step - loss: 0.6049 - accuracy: 0.7527\n",
      "Epoch 23/50\n",
      "153/153 [==============================] - 7s 45ms/step - loss: 0.5976 - accuracy: 0.7560\n",
      "Epoch 24/50\n",
      "153/153 [==============================] - 7s 45ms/step - loss: 0.5883 - accuracy: 0.7618\n",
      "Epoch 25/50\n",
      "153/153 [==============================] - 7s 45ms/step - loss: 0.5872 - accuracy: 0.7610\n",
      "Epoch 26/50\n",
      "153/153 [==============================] - 7s 45ms/step - loss: 0.5774 - accuracy: 0.7658\n",
      "Epoch 27/50\n",
      "153/153 [==============================] - 7s 45ms/step - loss: 0.5724 - accuracy: 0.7693\n",
      "Epoch 28/50\n",
      "153/153 [==============================] - 7s 45ms/step - loss: 0.5640 - accuracy: 0.7716\n",
      "Epoch 29/50\n",
      "153/153 [==============================] - 7s 45ms/step - loss: 0.5558 - accuracy: 0.7759\n",
      "Epoch 30/50\n",
      "153/153 [==============================] - 7s 45ms/step - loss: 0.5534 - accuracy: 0.7769\n",
      "Epoch 31/50\n",
      "153/153 [==============================] - 7s 45ms/step - loss: 0.5478 - accuracy: 0.7806\n",
      "Epoch 32/50\n",
      "153/153 [==============================] - 7s 45ms/step - loss: 0.5430 - accuracy: 0.7821\n",
      "Epoch 33/50\n",
      "153/153 [==============================] - 7s 45ms/step - loss: 0.5347 - accuracy: 0.7865\n",
      "Epoch 34/50\n",
      "153/153 [==============================] - 7s 45ms/step - loss: 0.5304 - accuracy: 0.7889\n",
      "Epoch 35/50\n",
      "153/153 [==============================] - 7s 45ms/step - loss: 0.5235 - accuracy: 0.7907\n",
      "Epoch 36/50\n",
      "153/153 [==============================] - 7s 45ms/step - loss: 0.5189 - accuracy: 0.7926\n",
      "Epoch 37/50\n",
      "153/153 [==============================] - 7s 46ms/step - loss: 0.5136 - accuracy: 0.7962\n",
      "Epoch 38/50\n",
      "153/153 [==============================] - 7s 45ms/step - loss: 0.5111 - accuracy: 0.7973\n",
      "Epoch 39/50\n",
      "153/153 [==============================] - 7s 45ms/step - loss: 0.5043 - accuracy: 0.8013\n",
      "Epoch 40/50\n",
      "153/153 [==============================] - 7s 45ms/step - loss: 0.5001 - accuracy: 0.8030\n",
      "Epoch 41/50\n",
      "153/153 [==============================] - 7s 45ms/step - loss: 0.4930 - accuracy: 0.8053\n",
      "Epoch 42/50\n",
      "153/153 [==============================] - 7s 46ms/step - loss: 0.4874 - accuracy: 0.8085\n",
      "Epoch 43/50\n",
      "153/153 [==============================] - 7s 45ms/step - loss: 0.4824 - accuracy: 0.8106\n",
      "Epoch 44/50\n",
      "153/153 [==============================] - 7s 45ms/step - loss: 0.4768 - accuracy: 0.8129\n",
      "Epoch 45/50\n",
      "153/153 [==============================] - 7s 45ms/step - loss: 0.4742 - accuracy: 0.8146\n",
      "Epoch 46/50\n",
      "153/153 [==============================] - 7s 45ms/step - loss: 0.4706 - accuracy: 0.8162\n",
      "Epoch 47/50\n",
      "153/153 [==============================] - 7s 45ms/step - loss: 0.4631 - accuracy: 0.8188\n",
      "Epoch 48/50\n",
      "153/153 [==============================] - 7s 45ms/step - loss: 0.4613 - accuracy: 0.8199\n",
      "Epoch 49/50\n",
      "153/153 [==============================] - 7s 45ms/step - loss: 0.4544 - accuracy: 0.8238\n",
      "Epoch 50/50\n",
      "153/153 [==============================] - 7s 45ms/step - loss: 0.4531 - accuracy: 0.8247\n"
     ]
    },
    {
     "data": {
      "text/plain": [
       "<tensorflow.python.keras.callbacks.History at 0x7f8e88c145f8>"
      ]
     },
     "execution_count": 18,
     "metadata": {
      "tags": []
     },
     "output_type": "execute_result"
    }
   ],
   "source": [
    "model.fit(X_train_indices, Y_train_oh, epochs = 50, batch_size = 1000, shuffle=True)"
   ]
  },
  {
   "cell_type": "markdown",
   "metadata": {
    "colab_type": "text",
    "id": "3vHLcuFyZHHm"
   },
   "source": [
    "## The relaxing version to evaluate the accuracy of model, allowing plus or minus 1 error"
   ]
  },
  {
   "cell_type": "code",
   "execution_count": 19,
   "metadata": {
    "colab": {},
    "colab_type": "code",
    "id": "A-t92uMcPXnq"
   },
   "outputs": [],
   "source": [
    "def relax_evaluate(X_indices, Y):\n",
    "  correct = 0\n",
    "  total = len(Y)\n",
    "  pred = np.argmax(model.predict(X_indices), axis=1)\n",
    "  for i in range(total):\n",
    "    if abs(pred[i] - Y[i]) <= 1:\n",
    "      correct += 1\n",
    "\n",
    "  return str(correct/total)"
   ]
  },
  {
   "cell_type": "markdown",
   "metadata": {},
   "source": [
    "# Accuracy for the Validation dataset"
   ]
  },
  {
   "cell_type": "code",
   "execution_count": 20,
   "metadata": {
    "colab": {
     "base_uri": "https://localhost:8080/",
     "height": 51
    },
    "colab_type": "code",
    "id": "L5nUBSPhfQOW",
    "outputId": "c821f158-4295-41a4-eefd-b7ebb6722882",
    "scrolled": true
   },
   "outputs": [
    {
     "name": "stdout",
     "output_type": "stream",
     "text": [
      "49/49 [==============================] - 0s 4ms/step - loss: 0.9835 - accuracy: 0.6641\n",
      "Validation accuracy =  0.6640776991844177\n"
     ]
    }
   ],
   "source": [
    "X_validation_indices = sentences_to_indices(X_validation, word_to_index, max_len = maxLen)\n",
    "Y_validation_oh = convert_to_one_hot(Y_validation, C = 5)\n",
    "loss, acc = model.evaluate(X_validation_indices, Y_validation_oh)\n",
    "print(\"Validation accuracy = \", acc)"
   ]
  },
  {
   "cell_type": "markdown",
   "metadata": {},
   "source": [
    "# The relaxing accuracy for the training and the validation datasets"
   ]
  },
  {
   "cell_type": "code",
   "execution_count": 21,
   "metadata": {
    "colab": {
     "base_uri": "https://localhost:8080/",
     "height": 51
    },
    "colab_type": "code",
    "id": "IwVmZdIdfQOa",
    "outputId": "20e30039-5e23-4430-a2fe-592ed864857d"
   },
   "outputs": [
    {
     "name": "stdout",
     "output_type": "stream",
     "text": [
      "relaxed training accuracy = 0.9951684820272761\n",
      "relaxed validation accuracy = 0.9799352750809062\n"
     ]
    }
   ],
   "source": [
    "print('relaxed training accuracy = ' + relax_evaluate(X_train_indices, Y_train))\n",
    "print('relaxed validation accuracy = ' + relax_evaluate(X_validation_indices, Y_validation))"
   ]
  },
  {
   "cell_type": "markdown",
   "metadata": {},
   "source": [
    "# The accuracy and the relaxing accuracy for the test dataset"
   ]
  },
  {
   "cell_type": "code",
   "execution_count": 22,
   "metadata": {
    "colab": {
     "base_uri": "https://localhost:8080/",
     "height": 68
    },
    "colab_type": "code",
    "id": "FA4pGWEOPtdO",
    "outputId": "34eb20cb-e120-4c42-e11a-ac618478f17d"
   },
   "outputs": [
    {
     "name": "stdout",
     "output_type": "stream",
     "text": [
      "49/49 [==============================] - 0s 5ms/step - loss: 0.9551 - accuracy: 0.6714\n",
      "Test accuracy =  0.6713644862174988\n",
      "relaxed test accuracy = 0.9814221652786675\n"
     ]
    }
   ],
   "source": [
    "X_test_indices = sentences_to_indices(X_test, word_to_index, max_len = maxLen)\n",
    "Y_test_oh = convert_to_one_hot(Y_test, C = 5)\n",
    "loss, acc = model.evaluate(X_test_indices, Y_test_oh)\n",
    "print(\"Test accuracy = \", acc)\n",
    "print('relaxed test accuracy = ' + relax_evaluate(X_test_indices, Y_test))"
   ]
  },
  {
   "cell_type": "markdown",
   "metadata": {
    "colab_type": "text",
    "id": "IvIyD5FhZhFk"
   },
   "source": [
    "# Test a sarcasm example"
   ]
  },
  {
   "cell_type": "code",
   "execution_count": 23,
   "metadata": {
    "colab": {
     "base_uri": "https://localhost:8080/",
     "height": 34
    },
    "colab_type": "code",
    "id": "S74-xmQ3fQOf",
    "outputId": "e3a834b1-09c4-4039-9bcb-7faf0b9f942f"
   },
   "outputs": [
    {
     "name": "stdout",
     "output_type": "stream",
     "text": [
      "This confusing movie makes me excited 0\n"
     ]
    }
   ],
   "source": [
    "# Change the sentence below to see your prediction. Make sure all the words are in the Glove embeddings.\n",
    "x_sarcasm = np.array(['This confusing movie makes me excited'])\n",
    "X_sarcasm_indices = sentences_to_indices(x_sarcasm, word_to_index, maxLen)\n",
    "print(x_sarcasm[0] +' '+  str(np.argmax(model.predict(X_sarcasm_indices))))"
   ]
  },
  {
   "cell_type": "markdown",
   "metadata": {
    "colab_type": "text",
    "id": "aM-5Wj5UZy2y"
   },
   "source": [
    "# Test a normal example"
   ]
  },
  {
   "cell_type": "code",
   "execution_count": 24,
   "metadata": {
    "colab": {
     "base_uri": "https://localhost:8080/",
     "height": 34
    },
    "colab_type": "code",
    "id": "okg_AfoIbmX5",
    "outputId": "fbb85d7c-2022-4519-af15-0eea9742f762"
   },
   "outputs": [
    {
     "name": "stdout",
     "output_type": "stream",
     "text": [
      "Kinnear does n't aim for our sympathy , but rather delivers a performance of striking skill and depth . 3\n"
     ]
    }
   ],
   "source": [
    "x_test = np.array([\"Kinnear does n't aim for our sympathy , but rather delivers a performance of striking skill and depth .\"])\n",
    "X_test_indices = sentences_to_indices(x_test, word_to_index, maxLen)\n",
    "print(x_test[0] +' '+  str(np.argmax(model.predict(X_test_indices))))"
   ]
  },
  {
   "cell_type": "markdown",
   "metadata": {
    "colab_type": "text",
    "id": "WhdYe4DoZ6ND"
   },
   "source": [
    "# Test a negation example"
   ]
  },
  {
   "cell_type": "code",
   "execution_count": 33,
   "metadata": {
    "colab": {
     "base_uri": "https://localhost:8080/",
     "height": 34
    },
    "colab_type": "code",
    "id": "YgpV4910XlGs",
    "outputId": "ba1dee66-64f2-4479-9dc0-5972e1b34d12"
   },
   "outputs": [
    {
     "name": "stdout",
     "output_type": "stream",
     "text": [
      "This movie does not makes me happy 1\n"
     ]
    }
   ],
   "source": [
    "x_negation = np.array(['This movie does not makes me happy'])\n",
    "X_negation_indices = sentences_to_indices(x_negation, word_to_index, maxLen)\n",
    "print(x_negation[0] +' '+  str(np.argmax(model.predict(X_negation_indices))))"
   ]
  },
  {
   "cell_type": "markdown",
   "metadata": {
    "colab_type": "text",
    "id": "OQiKzwb9aAHO"
   },
   "source": [
    "# Save the model"
   ]
  },
  {
   "cell_type": "code",
   "execution_count": 34,
   "metadata": {
    "colab": {},
    "colab_type": "code",
    "id": "pmmm0Av2T62Z"
   },
   "outputs": [],
   "source": [
    "import tensorflow as tf\n",
    "model.save('drive/My Drive/my_model.h5')\n",
    "new_model = tf.keras.models.load_model('drive/My Drive/my_model.h5')"
   ]
  }
 ],
 "metadata": {
  "accelerator": "GPU",
  "colab": {
   "collapsed_sections": [],
   "name": "movie_review.ipynb",
   "provenance": [],
   "toc_visible": true
  },
  "coursera": {
   "course_slug": "nlp-sequence-models",
   "graded_item_id": "RNnEs",
   "launcher_item_id": "acNYU"
  },
  "kernelspec": {
   "display_name": "Python 3",
   "language": "python",
   "name": "python3"
  },
  "language_info": {
   "codemirror_mode": {
    "name": "ipython",
    "version": 3
   },
   "file_extension": ".py",
   "mimetype": "text/x-python",
   "name": "python",
   "nbconvert_exporter": "python",
   "pygments_lexer": "ipython3",
   "version": "3.6.7"
  }
 },
 "nbformat": 4,
 "nbformat_minor": 1
}
